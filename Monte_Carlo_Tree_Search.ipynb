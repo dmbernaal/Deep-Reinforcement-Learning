{
 "cells": [
  {
   "cell_type": "markdown",
   "metadata": {},
   "source": [
    "# Monte Carlo Tree Search\n",
    "*Monte Carlo Tree Search* provides a way to evaluate **game state** without any **strategic knowledge** about the game. Instead of game-specific heuristics, the MCTS algorithm simulates *random games* to estimate how good a position is. One of these random games is a called: **rollout** \n",
    "\n",
    "*Monte Carlo Tree Search* is part of a larger family of *Monte Carlo Algorithms*, which use **Randomness** to analyze extremely complex situations. \n",
    "\n",
    "**The key idea** is that your **estimate** gets **more accurate** as you do **more rollouts** \n",
    "\n",
    "Each round of the MCTS algorithm takes three steps:\n",
    "1. Add a new board position to the MCTS tree\n",
    "2. Simulate a random game from that position\n",
    "3. Update the tree statistics with the results of that random game\n",
    "\n",
    "*You repeat this process as many times as you can in the time available. Then the statistics at the top of the tree tell you which move to pick* \n",
    "\n",
    "Every time you repeat the steps, the tree gets bigger, and the estimates at the top get more accurate. Normally, you stop after a fixed number of rounds or after a fixed amount of time passes. At that point you select the move that has the highest winning percentage."
   ]
  },
  {
   "cell_type": "markdown",
   "metadata": {},
   "source": [
    "### MCTSNode Class\n",
    "This class is built to represent any node in our tree. We will track the following properties:\n",
    "* ```game_state```: The current state of the game (board position & next player) at this node in the tree\n",
    "* ```parent```: The parent MCTSNode that led to this one. If NONE = root of the tree\n",
    "* ```move```: The last move that directly lead to this node\n",
    "* ```children```: A list of all child nodes in the tree\n",
    "* ```win_counts``` & ```num_rollouts```: Statistics about the rollouts that started from this node\n",
    "* ```unvisited_moves```: A list of all legal moves from this position that aren't yet part of the tree. Whenever we add a new node to the tree, we pull one move out of this list and generate a new MCTSNode for it, and add it to the children list"
   ]
  },
  {
   "cell_type": "code",
   "execution_count": 10,
   "metadata": {},
   "outputs": [],
   "source": [
    "import random\n",
    "import math"
   ]
  },
  {
   "cell_type": "code",
   "execution_count": null,
   "metadata": {},
   "outputs": [],
   "source": [
    "class MCTSNode(object):\n",
    "    \"\"\"\n",
    "    This node is meant to represent any node in our tree\n",
    "    \"\"\"\n",
    "    def __init__(self, game_state, parent=None, move=None):\n",
    "        self.game_state = game_state\n",
    "        self.parent = parent\n",
    "        self.move = move\n",
    "        self.win_counts = {\n",
    "            Player.black = 0,\n",
    "            Player.white = 0\n",
    "        }\n",
    "        self.num_rollouts = 0\n",
    "        self.children = []\n",
    "        self.unvisited_moves = game_state.legal_moves()\n",
    "        \n",
    "    def add_random_child(self):\n",
    "        \"\"\"\n",
    "        adding random child to the tree, from legal moves\n",
    "        \"\"\"\n",
    "        index = random.randint(0, len(self.unvisited_moves) - 1)\n",
    "        new_move = self.unvisited_moves.pop(index)\n",
    "        new_game_state = self.game_state.apply_move(new_move)\n",
    "        new_node = MCTSNode(new_game_state, self, new_move)\n",
    "        self.children.append(new_node)\n",
    "        return new_node\n",
    "    \n",
    "    def record_win(self, winner):\n",
    "        \"\"\"\n",
    "        Updating wins and rollouts\n",
    "        \"\"\"\n",
    "        self.win_counts[winner] += 1\n",
    "        self.num_rollouts += 1\n",
    "    \n",
    "    def can_add_child(self):\n",
    "        \"\"\"\n",
    "        This method reports whether this position has any legal moves that haven't yet been added to the tree\n",
    "        \"\"\"\n",
    "        return len(self.unvisited_moves) > 0\n",
    "    \n",
    "    def is_terminal(self):\n",
    "        \"\"\"\n",
    "        This method reports whether the game is over at this node. If so, we cannot search any further in this node\n",
    "        \"\"\"\n",
    "        return self.game_state.is_over()\n",
    "    \n",
    "    def winning_frac(self, player):\n",
    "        \"\"\"\n",
    "        This method returns the fraction of rollouts that were won by a given player (updates the deeper we go)\n",
    "        \"\"\"\n",
    "        return float(self.win_counts[player]) / float(self.num_rollouts)"
   ]
  },
  {
   "cell_type": "markdown",
   "metadata": {},
   "source": [
    "### The MCTS Algorithm\n",
    "The algorithm will work as follows: \n",
    "* Start by creating a new tree. The **root node** is the current game state\n",
    "* We loop for a *fixed* number of *round* for each turn, causing us to repeatedly generate **rollouts**\n",
    "    * Each round begins by walking down the tree until you find a node where you can add a child (any board position that has a legal move that isn't yet in the tree)\n",
    "    * ```select_move()``` hides the work of choosing the best branch to explore\n",
    "    * After finding a suitable node, we call ```add_random_child()``` to pick any follow-up move and bring it into the tree. At this point, node is a newly created MCTSNode that has zero rollouts\n",
    "    * We now start the rollout from this node by calling ```simulate_random_game```\n",
    "    * Finally, we update the win counts of the newly created node and all it's acestors (the more rollouts, the higher accuracy)"
   ]
  },
  {
   "cell_type": "code",
   "execution_count": 12,
   "metadata": {},
   "outputs": [],
   "source": [
    "class MCTSAgent():\n",
    "    \"\"\"\n",
    "    When building in production: MCTSAgent(agent.Agent)\n",
    "    Where agent.Agent is an agent playing our game. Please look at documentation in: \n",
    "    \n",
    "    https://github.com/dmbernaal/SigmaGo.git \n",
    "    \n",
    "    for more information\n",
    "    \"\"\"\n",
    "    def select_move(self, game_state):\n",
    "        \n",
    "        # Initializing our tree with our root\n",
    "        root = MCTSNode(game_state)\n",
    "        \n",
    "        # Will loop through number of rounds\n",
    "        for i in range(self.num_rounds):\n",
    "            \n",
    "            # initializing our node as root\n",
    "            node = root\n",
    "            \n",
    "            # While we can add more nodes & the game isn't over\n",
    "            while (not node.can_add_child()) and (not node.is_terminal()):\n",
    "                node = self.select_child(node)\n",
    "                \n",
    "            # Adding new child node into the tree, if we can    \n",
    "            if node.can_add_child():\n",
    "                node = node.add_random_child()\n",
    "            \n",
    "            # Simulate a random game from this node\n",
    "            winner = self.simulate_random_game(node.game_state)\n",
    "            \n",
    "            # Propogates the score back up the tree\n",
    "            while node is not None:\n",
    "                node.record_win(winner)\n",
    "                node = node.parent\n",
    "                \n",
    "        \"\"\"\n",
    "        Now that we have go through all rounds, we need to pick a move. We will do this by looping over all top-level branches and pick the one with the best winning percentage. \n",
    "        \"\"\"\n",
    "        \n",
    "        best_move = None\n",
    "        best_pct = -1.0\n",
    "        \n",
    "        # Looping through all children in our tree\n",
    "        for child in root.children:\n",
    "            \n",
    "            # Calculate the winning pct\n",
    "            child_pct = child.winning_pct(game_state.next_player)\n",
    "            \n",
    "            # Which child has the highest pct? Make that our best_pct\n",
    "            if child_pct > best_pct:\n",
    "                best_pct = child_pct\n",
    "                best_move = child.move # grab that move with highest pct\n",
    "        return best_move\n",
    "    \n",
    "    \n",
    "    def select_child(self, node):\n",
    "        total_rollouts = sum(child.num_rollouts for child in node.children)\n",
    "        \n",
    "        best_score = -1\n",
    "        best_child = None\n",
    "        for child in node.children:\n",
    "            score = uct_score(total_rollouts, child.num_rollouts, child.winning_pct(node.game_state.next_player), self.temperature)\n",
    "            \n",
    "            if score > best_score:\n",
    "                best_score = uct_score\n",
    "                best_child = child\n",
    "        \n",
    "        return best_child"
   ]
  },
  {
   "cell_type": "markdown",
   "metadata": {},
   "source": [
    "### Upper Condifence Bound For Trees (UCT)\n",
    "We have a limited amount of time to spend on each turn, which means we can perform only a fixed number of rollouts. Given each rollout improves our evaluation of a single possible move. This makes it a *limited resource* we must choose wisely. \n",
    "\n",
    "**UCT** helps with choosing the right budget. \n",
    "\n",
    "#### Exploitation \n",
    "Our first goal is to spend our time looking for the best moves. As we complete more rollouts throughout the branches, our estimates will get more accurate. Which will remove false-positives from the list of possible moves (best moves)\n",
    "\n",
    "For each node we are considering, we compute the winning percentage $w$ to represent the exploitation goal\n",
    "\n",
    "#### Exploration\n",
    "We want to get more accurate evaluations for the branches we have visited the least. It may be the case that our best move has a low PCT due to the fact we haven't done enough roll-out on that branch. Thus we will improve it's statistics with more roll-out \n",
    "\n",
    "To represent exploration, we compute where $N$ is the total number of rollouts, and $n$ is the number of rollouts that stated with the node under consideration. \n",
    "\n",
    "### UCT Formula\n",
    "####  $$w+c\\sqrt{\\frac{logN}{n}}$$\n",
    "\n",
    "* $w$ = winning percentage \n",
    "* $N$ = total number of rollouts\n",
    "* $n$ = the number of rollouts that started with the node under consideration\n",
    "* $c$ = a parameter that represents your preferred balance between **exploitation** and **exploration**\n",
    "    * **Larger value of $c$** = spend more time visiting the least explored nodes\n",
    "    * **Smaller value of $c$** = spend more time gathering a better evalauation of the most promising node\n",
    "\n",
    "To find the best value of $c$ it's best to do *trial & error* \n",
    "\n",
    "The node with the highest UCT score is the start of the next rollout\n",
    "\n",
    "You calculate the winning percentage from the point of view of the player who'd pick the next move, therefor it will alternate between players as you walk down the tree"
   ]
  },
  {
   "cell_type": "code",
   "execution_count": 13,
   "metadata": {},
   "outputs": [],
   "source": [
    "# UCT Score Function\n",
    "def uct_score(parent_rollouts, child_rollouts, win_pct, temperature):\n",
    "    exploration = math.sqrt(math.log(parent_rollouts) / child_rollouts)\n",
    "    return win_pct + temperature * exploration "
   ]
  },
  {
   "cell_type": "code",
   "execution_count": null,
   "metadata": {},
   "outputs": [],
   "source": []
  },
  {
   "cell_type": "code",
   "execution_count": null,
   "metadata": {},
   "outputs": [],
   "source": []
  },
  {
   "cell_type": "code",
   "execution_count": null,
   "metadata": {},
   "outputs": [],
   "source": []
  },
  {
   "cell_type": "code",
   "execution_count": null,
   "metadata": {},
   "outputs": [],
   "source": []
  },
  {
   "cell_type": "code",
   "execution_count": null,
   "metadata": {},
   "outputs": [],
   "source": []
  },
  {
   "cell_type": "code",
   "execution_count": null,
   "metadata": {},
   "outputs": [],
   "source": []
  },
  {
   "cell_type": "code",
   "execution_count": null,
   "metadata": {},
   "outputs": [],
   "source": []
  },
  {
   "cell_type": "code",
   "execution_count": null,
   "metadata": {},
   "outputs": [],
   "source": []
  },
  {
   "cell_type": "code",
   "execution_count": null,
   "metadata": {},
   "outputs": [],
   "source": []
  },
  {
   "cell_type": "code",
   "execution_count": null,
   "metadata": {},
   "outputs": [],
   "source": []
  },
  {
   "cell_type": "code",
   "execution_count": 7,
   "metadata": {},
   "outputs": [],
   "source": []
  },
  {
   "cell_type": "code",
   "execution_count": null,
   "metadata": {},
   "outputs": [],
   "source": []
  },
  {
   "cell_type": "code",
   "execution_count": null,
   "metadata": {},
   "outputs": [],
   "source": []
  },
  {
   "cell_type": "code",
   "execution_count": null,
   "metadata": {},
   "outputs": [],
   "source": []
  },
  {
   "cell_type": "code",
   "execution_count": null,
   "metadata": {},
   "outputs": [],
   "source": []
  },
  {
   "cell_type": "code",
   "execution_count": null,
   "metadata": {},
   "outputs": [],
   "source": []
  },
  {
   "cell_type": "code",
   "execution_count": null,
   "metadata": {},
   "outputs": [],
   "source": []
  }
 ],
 "metadata": {
  "kernelspec": {
   "display_name": "Python 3",
   "language": "python",
   "name": "python3"
  },
  "language_info": {
   "codemirror_mode": {
    "name": "ipython",
    "version": 3
   },
   "file_extension": ".py",
   "mimetype": "text/x-python",
   "name": "python",
   "nbconvert_exporter": "python",
   "pygments_lexer": "ipython3",
   "version": "3.6.8"
  }
 },
 "nbformat": 4,
 "nbformat_minor": 2
}
