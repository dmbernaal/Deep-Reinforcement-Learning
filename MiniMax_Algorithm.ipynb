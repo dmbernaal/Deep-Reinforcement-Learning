{
 "cells": [
  {
   "cell_type": "markdown",
   "metadata": {},
   "source": [
    "# MiniMax Algorithm: Forming Game Tree\n",
    "With this algorithm: You are trying to **maximize** your score, while your opponent is trying to **minimize** your score. Assuming your opponent is as smart as you. \n",
    "\n",
    "#### Equation:\n",
    "\n",
    "### $$\\overline{u_i} = min_{s_-i}max_{s_i}u_i(s_i, s_-i)$$"
   ]
  },
  {
   "cell_type": "markdown",
   "metadata": {},
   "source": [
    "**Function A:** A function that finds a move that immediately wins the game\n",
    "1. Loop over all **legal moves**\n",
    "2. Calculate what the board would look like if you pick this move\n",
    "3. IF this is the winning move, no need to continue searching & pick that move\n",
    "4. Else can't win on this move (will loop through this next move)"
   ]
  },
  {
   "cell_type": "code",
   "execution_count": 3,
   "metadata": {},
   "outputs": [],
   "source": [
    "def find_winning_move(game_state, next_player):\n",
    "    \n",
    "    # Loop over all **legal moves**\n",
    "    for candidate_move in game_state.legal_moves(next_player): \n",
    "        \n",
    "        # Calculate what the board would look like if you pick this move\n",
    "        next_state = game_state.apply_move(candidate_move) \n",
    "        \n",
    "        # IF this is the winning move, no need to continue searching & pick that move\n",
    "        if next_state.is_over() and next_state.winner == next_player: \n",
    "            \n",
    "            return cadidate_move \n",
    "    # Else can't win on this move (will loop through this next move)\n",
    "    return None  "
   ]
  },
  {
   "cell_type": "markdown",
   "metadata": {},
   "source": [
    "**Function B:** A function that avoids giving the opponent a winning move\n",
    "1. ```possible_moves``` becomes a **list** of all moves worth considering\n",
    "2. Loops over all **legal moves**\n",
    "3. Calculate what the board would look like if you play this move\n",
    "4. Does this give your **opponent** a **winning move**?\n",
    "5. IF NOT, this move is plausible"
   ]
  },
  {
   "cell_type": "code",
   "execution_count": 4,
   "metadata": {},
   "outputs": [],
   "source": [
    "def eliminate_losing_moves(game_state, next_player):\n",
    "    opponent = next_player.other()\n",
    "    possible_moves = []\n",
    "    \n",
    "    # We will be looping through all legal moves\n",
    "    for candidate_move in game_state.legal_moves(next_player):\n",
    "        \n",
    "        # Grabbing the next game state with that legal move\n",
    "        next_state = game_state.apply_move(candidate_moves)\n",
    "        \n",
    "        # Calling our find_winning_move() function to see if that state could result in a winning move\n",
    "        opponent_winning_move = find_winning_move(next_state, opponent)\n",
    "        \n",
    "        # If it doesn't we add this candidate move\n",
    "        if opponent_winning_move is None:\n",
    "            possible_moves.append(candidate_move)\n",
    "            \n",
    "    # Returning all possible winning moves         \n",
    "    return possble_moves"
   ]
  },
  {
   "cell_type": "markdown",
   "metadata": {},
   "source": [
    "**Function C:** A function that finds a **two-move** sequence that guarentees a win\n",
    "1. Loops over all **legal moves**\n",
    "2. Calculate what the board would look like if you play this move\n",
    "3. Does your **opponent** have **good defense?*\n",
    "4. IF NOT, Pick this move"
   ]
  },
  {
   "cell_type": "code",
   "execution_count": 5,
   "metadata": {},
   "outputs": [],
   "source": [
    "def find_two_step_win(game_state, next_player):\n",
    "    opponent = next_player.other()\n",
    "    \n",
    "    # Looping through all legal moves\n",
    "    for candidate_move in game_state.legal_moves(next_player):\n",
    "        \n",
    "        # For all legal moves, what is the next game state?\n",
    "        next_state = game_state.apply_move(candidate_move)\n",
    "        \n",
    "        # Does the opponent have any good moves given the game state?\n",
    "        good_responses = eliminate_losing_moves(next_state, opponent)\n",
    "        \n",
    "        # IF not then that is our move\n",
    "        if not good_responses:\n",
    "            return candidate_moves\n",
    "        \n",
    "    # otherwise, you're screwed buddy\n",
    "    return None"
   ]
  },
  {
   "cell_type": "markdown",
   "metadata": {},
   "source": [
    "### Tic-Tac-Toe Example\n",
    "In this following example we will simple play tic-tac-toe"
   ]
  },
  {
   "cell_type": "code",
   "execution_count": 20,
   "metadata": {},
   "outputs": [],
   "source": [
    "# Our imports\n",
    "from enum import Enum\n",
    "import random"
   ]
  },
  {
   "cell_type": "code",
   "execution_count": 21,
   "metadata": {},
   "outputs": [],
   "source": [
    "# Declaring Classes\n",
    "class GameResult(Enum):\n",
    "    \"\"\"\n",
    "    Using Enum to represent the outcome of the game\n",
    "    \"\"\"\n",
    "    loss = 1\n",
    "    draw = 2\n",
    "    win = 3\n",
    "    \n",
    "class MinimaxAgent():\n",
    "    \"\"\"\n",
    "    A Game playing agent that impliments MiniMax Search\n",
    "    \n",
    "    when using this function: change this to: \n",
    "        1. Create Agent Class\n",
    "        2. MinimaxAgent(Agent) - inherets from Agent class\n",
    "    \"\"\"\n",
    "    def select_move(self, game_state):\n",
    "        winning_moves = []\n",
    "        draw_moves = []\n",
    "        losing_moves = []\n",
    "        \n",
    "        # Let's loop through all legal moves\n",
    "        for possible_move in game_state.legal_moves():\n",
    "            next_state = game_state.apply_move(possible_move)\n",
    "            \n",
    "            # Grabbing our opponents best outcome\n",
    "            opponent_best_outcome = best_result(next_state)\n",
    "            \n",
    "            # Grabbing our best outcome from the opponents best outcome\n",
    "            our_best_outcome = reverse_game_result(opponent_best_outcome)\n",
    "            \n",
    "            # Does our best outcome result in a win?\n",
    "            if our_best_outcome == GameResult.win:    \n",
    "                winning_moves.append(possible_move)\n",
    "            \n",
    "            # Does our best outcome result in a draw?\n",
    "            elif our_best_outcome == GameResult.draw:\n",
    "                draw_moves.append(possible_move)\n",
    "            \n",
    "            # Otherwise it results in a loss\n",
    "            else:\n",
    "                losing_moves.append(possible_move)\n",
    "        \n",
    "        # Now we pick a move that leads to best outcome\n",
    "        if winning_moves:\n",
    "            return random.choice(winning_moves)\n",
    "        \n",
    "        if draw_moves:\n",
    "            return random.choice(draw_moves)\n",
    "        \n",
    "        return random.choice(losing_moves)"
   ]
  },
  {
   "cell_type": "code",
   "execution_count": null,
   "metadata": {},
   "outputs": [],
   "source": [
    "# Game functions\n",
    "def best_result(game_state):\n",
    "    \"\"\"\n",
    "    The first step of the minimax algorithm. \n",
    "    We start from the end of the game and work backward. If the game is already over, there is only one possible result.\n",
    "    Returns: GameResult.win | GameResult.draw | GameResult.loss\n",
    "    \"\"\"\n",
    "    # Is the game over?\n",
    "    if game_state.is_over():\n",
    "        \n",
    "        # Is this player the winner of the game? - in our class this will be the opponent\n",
    "        if game_state.winner() == game_state.next_player:\n",
    "            return GameResult.win\n",
    "        \n",
    "        # Is there no winner?\n",
    "        elif game_state.winner() is None:\n",
    "            return GameResult.draw\n",
    "\n",
    "        # Otherwise\n",
    "        else:\n",
    "            return GameResult.loss\n",
    "    \n",
    "    # Initializing at lowest possible result = 1\n",
    "    best_result_so_far = GameResult.loss\n",
    "    \n",
    "    # Looping through all legal moves\n",
    "    for candidate_move in game_state.legal_moves():\n",
    "        \n",
    "        # Grabbing next game state for that candidate move\n",
    "        next_state = game_state.apply_move(candidate_move)\n",
    "        \n",
    "        # Calculating our opponents best result given that game state\n",
    "        opponent_best_result = best_result(next_state)\n",
    "        \n",
    "        # Calculating our result given if they play their best result\n",
    "        our_result = reverse_game_result(opponent_best_result)\n",
    "        \n",
    "        # win = 3, draw = 2, loss = 1: Let's grab the best result if it exist\n",
    "        if our_result.value > best_result_so_far.value:\n",
    "            best_result_so_far = our_result\n",
    "        \n",
    "    # Returning that best result, 1 if we don't have a superior move\n",
    "    return best_result_so_far\n",
    "        \n",
    "\n",
    "def reverse_game_result(opponents_game_result):\n",
    "    \"\"\"\n",
    "    This function will take opponents_best_outcome and determine the best counter measure\n",
    "    Returns:\n",
    "        our_best_outcome\n",
    "    \"\"\"\n",
    "    # Does their game result end in a loss given that state?\n",
    "    if opponents_game_result == GameResult.loss:\n",
    "        return GameResult.win # we win!\n",
    "    \n",
    "    # Does their game result end in a win given that state?\n",
    "    if opponenets_game_result == GameResult.win:\n",
    "        return GameResult.loss # we lost...\n",
    "    \n",
    "    # otherwise\n",
    "    return GameResult.draw"
   ]
  },
  {
   "cell_type": "code",
   "execution_count": null,
   "metadata": {},
   "outputs": [],
   "source": []
  },
  {
   "cell_type": "code",
   "execution_count": null,
   "metadata": {},
   "outputs": [],
   "source": []
  },
  {
   "cell_type": "code",
   "execution_count": null,
   "metadata": {},
   "outputs": [],
   "source": []
  },
  {
   "cell_type": "code",
   "execution_count": null,
   "metadata": {},
   "outputs": [],
   "source": []
  },
  {
   "cell_type": "code",
   "execution_count": null,
   "metadata": {},
   "outputs": [],
   "source": []
  },
  {
   "cell_type": "code",
   "execution_count": null,
   "metadata": {},
   "outputs": [],
   "source": []
  },
  {
   "cell_type": "code",
   "execution_count": null,
   "metadata": {},
   "outputs": [],
   "source": []
  },
  {
   "cell_type": "code",
   "execution_count": null,
   "metadata": {},
   "outputs": [],
   "source": []
  },
  {
   "cell_type": "code",
   "execution_count": null,
   "metadata": {},
   "outputs": [],
   "source": []
  }
 ],
 "metadata": {
  "kernelspec": {
   "display_name": "Python 3",
   "language": "python",
   "name": "python3"
  },
  "language_info": {
   "codemirror_mode": {
    "name": "ipython",
    "version": 3
   },
   "file_extension": ".py",
   "mimetype": "text/x-python",
   "name": "python",
   "nbconvert_exporter": "python",
   "pygments_lexer": "ipython3",
   "version": "3.6.8"
  }
 },
 "nbformat": 4,
 "nbformat_minor": 2
}
