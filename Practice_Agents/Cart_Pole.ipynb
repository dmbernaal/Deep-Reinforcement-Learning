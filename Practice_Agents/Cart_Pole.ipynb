{
 "cells": [
  {
   "cell_type": "markdown",
   "metadata": {},
   "source": [
    "# CartPole Agent"
   ]
  },
  {
   "cell_type": "code",
   "execution_count": 13,
   "metadata": {},
   "outputs": [],
   "source": [
    "import gym\n",
    "from time import sleep"
   ]
  },
  {
   "cell_type": "code",
   "execution_count": 15,
   "metadata": {
    "scrolled": true
   },
   "outputs": [
    {
     "name": "stdout",
     "output_type": "stream",
     "text": [
      "Episode done in: 1 steps\n",
      "Total Reward: 1.0\n",
      "\n",
      "Episode done in: 2 steps\n",
      "Total Reward: 2.0\n",
      "\n",
      "Episode done in: 3 steps\n",
      "Total Reward: 3.0\n",
      "\n",
      "Episode done in: 4 steps\n",
      "Total Reward: 4.0\n",
      "\n",
      "Episode done in: 5 steps\n",
      "Total Reward: 5.0\n",
      "\n",
      "Episode done in: 6 steps\n",
      "Total Reward: 6.0\n",
      "\n",
      "Episode done in: 7 steps\n",
      "Total Reward: 7.0\n",
      "\n",
      "Episode done in: 8 steps\n",
      "Total Reward: 8.0\n",
      "\n",
      "Episode done in: 9 steps\n",
      "Total Reward: 9.0\n",
      "\n",
      "Episode done in: 10 steps\n",
      "Total Reward: 10.0\n",
      "\n",
      "Episode done in: 11 steps\n",
      "Total Reward: 11.0\n",
      "\n",
      "Episode done in: 12 steps\n",
      "Total Reward: 12.0\n",
      "\n",
      "Episode done in: 13 steps\n",
      "Total Reward: 13.0\n",
      "\n",
      "Episode done in: 14 steps\n",
      "Total Reward: 14.0\n",
      "\n"
     ]
    }
   ],
   "source": [
    "if __name__ == \"__main__\":\n",
    "    # Initializing our game\n",
    "    game = 'CartPole-v0'\n",
    "    env = gym.make(game)\n",
    "    \n",
    "    # Initializing rewards & Steps\n",
    "    total_reward = 0.0\n",
    "    total_steps = 0\n",
    "    \n",
    "    # Initializing the observations - must call reset()\n",
    "    obs = env.reset()\n",
    "    \n",
    "    while True:\n",
    "        # Selecting randon action\n",
    "        action = env.action_space.sample()\n",
    "        \n",
    "        # Retrieving information with random action\n",
    "        obs, reward, done, _ = env.step(action)\n",
    "        \n",
    "        # Updating\n",
    "        total_reward += reward\n",
    "        total_steps += 1\n",
    "        \n",
    "        # Is the game done?\n",
    "        if done:\n",
    "            break\n",
    "            \n",
    "        print(f'Episode done in: {total_steps} steps')\n",
    "        print(f'Total Reward: {total_reward}\\n')\n",
    "        sleep(.1)"
   ]
  },
  {
   "cell_type": "code",
   "execution_count": null,
   "metadata": {},
   "outputs": [],
   "source": []
  },
  {
   "cell_type": "code",
   "execution_count": null,
   "metadata": {},
   "outputs": [],
   "source": []
  },
  {
   "cell_type": "code",
   "execution_count": null,
   "metadata": {},
   "outputs": [],
   "source": []
  },
  {
   "cell_type": "code",
   "execution_count": null,
   "metadata": {},
   "outputs": [],
   "source": []
  },
  {
   "cell_type": "code",
   "execution_count": null,
   "metadata": {},
   "outputs": [],
   "source": []
  },
  {
   "cell_type": "code",
   "execution_count": null,
   "metadata": {},
   "outputs": [],
   "source": []
  },
  {
   "cell_type": "code",
   "execution_count": null,
   "metadata": {},
   "outputs": [],
   "source": []
  },
  {
   "cell_type": "code",
   "execution_count": null,
   "metadata": {},
   "outputs": [],
   "source": []
  }
 ],
 "metadata": {
  "kernelspec": {
   "display_name": "Python 3",
   "language": "python",
   "name": "python3"
  },
  "language_info": {
   "codemirror_mode": {
    "name": "ipython",
    "version": 3
   },
   "file_extension": ".py",
   "mimetype": "text/x-python",
   "name": "python",
   "nbconvert_exporter": "python",
   "pygments_lexer": "ipython3",
   "version": "3.6.8"
  }
 },
 "nbformat": 4,
 "nbformat_minor": 2
}
