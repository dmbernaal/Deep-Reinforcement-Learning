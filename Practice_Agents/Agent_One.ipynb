{
 "cells": [
  {
   "cell_type": "markdown",
   "metadata": {},
   "source": [
    "# Agent One Notes\n",
    "These are notes for ```agent_one.py``` script"
   ]
  },
  {
   "cell_type": "code",
   "execution_count": 32,
   "metadata": {},
   "outputs": [],
   "source": [
    "import random\n",
    "from tqdm import tqdm, tnrange\n",
    "import time"
   ]
  },
  {
   "cell_type": "markdown",
   "metadata": {},
   "source": [
    "# First Agent"
   ]
  },
  {
   "cell_type": "markdown",
   "metadata": {},
   "source": [
    "### Environment Class"
   ]
  },
  {
   "cell_type": "code",
   "execution_count": 33,
   "metadata": {},
   "outputs": [],
   "source": [
    "# Environment Class\n",
    "class Environment:\n",
    "    def __init__(self):\n",
    "        self.steps_left = 100\n",
    "        \n",
    "    def get_observations(self):\n",
    "        \"\"\"\n",
    "        This method returns the current enviroments obersvation to the agent. \n",
    "        \"\"\"\n",
    "        return [0.0, 0.0, 0.0] # No internal state\n",
    "    \n",
    "    def get_actions(self):\n",
    "        \"\"\"\n",
    "        This method allows the agent to query the set of actions it can execute.\n",
    "        \"\"\"\n",
    "        return [0, 1] # Two possible actions\n",
    "    \n",
    "    def is_done(self):\n",
    "        \"\"\"\n",
    "        This step signals the end of the episode to the agent.\n",
    "        \"\"\"\n",
    "        return self.steps_left == 0\n",
    "    \n",
    "    def action(self, action):\n",
    "        \"\"\"\n",
    "        This method is the central piece in the environment functionality. This handles the agent's action and returns the reward for this action.\n",
    "        \"\"\"\n",
    "        if self.is_done():\n",
    "            raise Exception('Game is over')\n",
    "        self.steps_left -= 1\n",
    "        \n",
    "        # if there are steps left, make a random action\n",
    "        return random.random() # Returns a random float"
   ]
  },
  {
   "cell_type": "markdown",
   "metadata": {},
   "source": [
    "### Agent Class"
   ]
  },
  {
   "cell_type": "code",
   "execution_count": 36,
   "metadata": {},
   "outputs": [
    {
     "data": {
      "application/vnd.jupyter.widget-view+json": {
       "model_id": "6de26f49f7d14b37916ff6df1afaafff",
       "version_major": 2,
       "version_minor": 0
      },
      "text/plain": [
       "HBox(children=(IntProgress(value=0, description='Training Agent | Reward: 0.0', style=ProgressStyle(descriptio…"
      ]
     },
     "metadata": {},
     "output_type": "display_data"
    },
    {
     "name": "stdout",
     "output_type": "stream",
     "text": [
      "\n",
      "Iteration: 100, Total Reward So Far: 55.41886417276639\n"
     ]
    }
   ],
   "source": [
    "# Agent Class\n",
    "class Agent:\n",
    "    def __init__(self):\n",
    "        \"\"\"\n",
    "        We initialize the counter that will keep the total reward accumulated by the agent during the episode\n",
    "        \"\"\"\n",
    "        self.total_reward = 0.0\n",
    "        \n",
    "    def step(self, env):\n",
    "        \"\"\"\n",
    "        We accept environment instance and allow the agent to take actions, then add up the reward from that action\n",
    "        ARGS:\n",
    "            env: Environment instance\n",
    "        \"\"\"\n",
    "        # Making an observation\n",
    "        current_obs = env.get_observations()\n",
    "        \n",
    "        # Make a decision about the action to take, based on the observations \n",
    "        actions = env.get_actions()\n",
    "        \n",
    "        # Submit the a random action, recieving a reward\n",
    "        reward = env.action(random.choice(actions))\n",
    "        \n",
    "        # Update our total rewards\n",
    "        self.total_reward += reward\n",
    "        \n",
    "        \n",
    "if __name__ == \"__main__\":\n",
    "    env = Environment()\n",
    "    agent = Agent()\n",
    "    \n",
    "    while not env.is_done():\n",
    "        for i in tnrange(env.steps_left, desc=\"Training Agent\"):\n",
    "            agent.step(env)\n",
    "            time.sleep(.100)\n",
    "            tqdm.write(f'Iteration: {i+1}, Total Reward So Far: {agent.total_reward}')\n",
    "        "
   ]
  },
  {
   "cell_type": "markdown",
   "metadata": {},
   "source": [
    "### Agent 1 Notes\n",
    "The above allows us to illustrate important basic concepts that come from this RL model. *The environment could be an extremely complicated physics model, and an agent could easily be a large neural network implementing the lasted RL Algorithm but, **the basic pattern states the same**:*\n",
    "* On every step, an agent takes some observation from the enviroment\n",
    "* The agent does it's calculations\n",
    "* From calculations, selects the action to issue\n",
    "* The result of that action is a **reward** and new observation"
   ]
  },
  {
   "cell_type": "code",
   "execution_count": null,
   "metadata": {},
   "outputs": [],
   "source": []
  },
  {
   "cell_type": "code",
   "execution_count": null,
   "metadata": {},
   "outputs": [],
   "source": []
  },
  {
   "cell_type": "code",
   "execution_count": null,
   "metadata": {},
   "outputs": [],
   "source": []
  },
  {
   "cell_type": "code",
   "execution_count": null,
   "metadata": {},
   "outputs": [],
   "source": []
  },
  {
   "cell_type": "code",
   "execution_count": null,
   "metadata": {},
   "outputs": [],
   "source": []
  },
  {
   "cell_type": "code",
   "execution_count": null,
   "metadata": {},
   "outputs": [],
   "source": []
  },
  {
   "cell_type": "code",
   "execution_count": null,
   "metadata": {},
   "outputs": [],
   "source": []
  },
  {
   "cell_type": "code",
   "execution_count": null,
   "metadata": {},
   "outputs": [],
   "source": []
  },
  {
   "cell_type": "code",
   "execution_count": null,
   "metadata": {},
   "outputs": [],
   "source": []
  },
  {
   "cell_type": "code",
   "execution_count": null,
   "metadata": {},
   "outputs": [],
   "source": []
  }
 ],
 "metadata": {
  "kernelspec": {
   "display_name": "Python 3",
   "language": "python",
   "name": "python3"
  },
  "language_info": {
   "codemirror_mode": {
    "name": "ipython",
    "version": 3
   },
   "file_extension": ".py",
   "mimetype": "text/x-python",
   "name": "python",
   "nbconvert_exporter": "python",
   "pygments_lexer": "ipython3",
   "version": "3.6.8"
  }
 },
 "nbformat": 4,
 "nbformat_minor": 2
}
