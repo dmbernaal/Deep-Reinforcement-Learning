{
 "cells": [
  {
   "cell_type": "markdown",
   "metadata": {},
   "source": [
    "## Action Space\n",
    "The actions that an agent can execute can be **discrete, continuous**, or a **combination** of both. \n",
    "\n",
    "**Discrete** actions are a fixed set of things that an agent could do. The main characteristic of a discrete action space is that only one action from that action space is possible. \n",
    "\n",
    "**Continuous** action has a value attached to it: *steering wheel, accelerator pedal*. Therefor, continuous actions indluce the boundaries of the value that the action could have. \n",
    "\n",
    "*We're not limited to a single action to perform, and the environment could have multiple actions.* "
   ]
  },
  {
   "cell_type": "markdown",
   "metadata": {},
   "source": [
    "## Observation Space\n",
    "Observations are pieces of information that an environment provides the agent with, on every timestamp, besides the reward.\n",
    "\n",
    "These can be as simple as a bunch of numbers or as complex as several multi-dimensional tensors contianing color images from several cameras. Observations can also be discrete (light buld; on / off) "
   ]
  },
  {
   "cell_type": "markdown",
   "metadata": {},
   "source": [
    "## The Environment\n",
    "When it comes to Gym, communications with the environment are performed via two methods: ```env``` class: ```step()``` and ```reset()```\n",
    "\n",
    "The ```reset()``` method has no arguments, and it instructs an environment to reset into its initial state and obtain the initial oberservation. *You have to call ```reset()``` after the creation of the environment*\n",
    "\n",
    "The ```step()``` method is the central piece in the environment's functioanlity, which does several things in one call: \n",
    "1. Telling the environment which action we'll execute on the next step\n",
    "2. Getting the new observation from the environment after this action\n",
    "3. Getting the reward the agent gained with this step\n",
    "4. Getting the indication that the episode is over\n",
    "\n",
    "*The first item (action) is passed as the only argument to the ```step()``` method, the rest is returned by function. Precisely, it's a tuple of four elements: (oberservation, reward, done, extra_info)* \n",
    "* **observation**: A NumPy vector or a matrix with observation data\n",
    "* **reward**: This is the float value of the reward\n",
    "* **done**: This is a boolean indicator, which is ```True``` when the episode is over\n",
    "* **extra_info**: Anything environment-specific with extra information about the environment. \n",
    "\n",
    "Therefor (in a loop): Call the ```step()``` method with an action to perform until this method's ```done``` flag becomes ```True```. Then we can all ```reset()``` to start over."
   ]
  },
  {
   "cell_type": "markdown",
   "metadata": {},
   "source": [
    "## Creation of the Environment\n",
    "Every environment has a unique name of the ```EnvironmentName-vN``` where ```N``` is the number used to distinguid between different versions of the same environment. \n",
    "\n",
    "To create (Gym), use the ```make(env_name)``` function with the only argument of the environment's name in string form. "
   ]
  },
  {
   "cell_type": "code",
   "execution_count": null,
   "metadata": {},
   "outputs": [],
   "source": []
  },
  {
   "cell_type": "code",
   "execution_count": null,
   "metadata": {},
   "outputs": [],
   "source": []
  },
  {
   "cell_type": "code",
   "execution_count": null,
   "metadata": {},
   "outputs": [],
   "source": []
  },
  {
   "cell_type": "code",
   "execution_count": null,
   "metadata": {},
   "outputs": [],
   "source": []
  },
  {
   "cell_type": "code",
   "execution_count": null,
   "metadata": {},
   "outputs": [],
   "source": []
  },
  {
   "cell_type": "code",
   "execution_count": null,
   "metadata": {},
   "outputs": [],
   "source": []
  },
  {
   "cell_type": "code",
   "execution_count": null,
   "metadata": {},
   "outputs": [],
   "source": []
  },
  {
   "cell_type": "code",
   "execution_count": null,
   "metadata": {},
   "outputs": [],
   "source": []
  },
  {
   "cell_type": "code",
   "execution_count": null,
   "metadata": {},
   "outputs": [],
   "source": []
  },
  {
   "cell_type": "code",
   "execution_count": null,
   "metadata": {},
   "outputs": [],
   "source": []
  },
  {
   "cell_type": "code",
   "execution_count": null,
   "metadata": {},
   "outputs": [],
   "source": []
  }
 ],
 "metadata": {
  "kernelspec": {
   "display_name": "Python 3",
   "language": "python",
   "name": "python3"
  },
  "language_info": {
   "codemirror_mode": {
    "name": "ipython",
    "version": 3
   },
   "file_extension": ".py",
   "mimetype": "text/x-python",
   "name": "python",
   "nbconvert_exporter": "python",
   "pygments_lexer": "ipython3",
   "version": "3.6.8"
  }
 },
 "nbformat": 4,
 "nbformat_minor": 2
}
